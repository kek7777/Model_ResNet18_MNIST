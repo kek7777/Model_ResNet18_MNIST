{
 "cells": [
  {
   "cell_type": "code",
   "execution_count": 4,
   "metadata": {},
   "outputs": [],
   "source": [
    "# Import packages\n",
    "import torch\n",
    "import os\n",
    "from torch import nn \n",
    "from torch import optim \n",
    "from torch.utils.data import DataLoader\n",
    "from matplotlib import pyplot as plt\n",
    "from dataset import train_data, test_data\n",
    "from residual_block import Residual_block\n",
    "from resnet18 import ResNet18"
   ]
  },
  {
   "cell_type": "code",
   "execution_count": 5,
   "metadata": {},
   "outputs": [],
   "source": [
    "# Create DATALoader\n",
    "train_loader = DataLoader(train_data, batch_size = 16, shuffle = True)\n",
    "test_loader = DataLoader(test_data, batch_size = 16, shuffle = False)"
   ]
  },
  {
   "cell_type": "code",
   "execution_count": null,
   "metadata": {},
   "outputs": [],
   "source": [
    "#For starting MLflow server change the path to folders, copy next commit  and run to cmd:\n",
    "\n",
    "\n",
    "# mlflow server --backend-store-uri \"file:///C:Users/Admin/ML_flow_Tracking/data_local\" --default-artifact-root \"file:///C:Users/Admin/ML_flow_Tracking/artefacts\" --host localhost --port 5000"
   ]
  },
  {
   "cell_type": "code",
   "execution_count": 6,
   "metadata": {},
   "outputs": [],
   "source": [
    "# Indicate username for registration at the MLflow server\n",
    "os.environ['USER'] = 'USER'"
   ]
  },
  {
   "cell_type": "code",
   "execution_count": 7,
   "metadata": {},
   "outputs": [],
   "source": [
    "# for reproducibility of results\n",
    "seed = 42\n",
    "torch.manual_seed(seed)\n",
    "torch.cuda.manual_seed(seed)\n",
    "torch.cuda.manual_seed_all(seed)\n",
    "torch.backends.cudnn.benchmark = False\n",
    "torch.backends.cudnn.deterministic = True"
   ]
  },
  {
   "cell_type": "code",
   "execution_count": null,
   "metadata": {},
   "outputs": [],
   "source": [
    "# Initialization of  MLflow\n",
    "# import mlflow.experiments\n",
    "mlflow.set_tracking_uri('http://127.0.0.1:5000/')\n",
    "\n",
    "# Indicate project name\n",
    "mlflow.set_experiment('PROJECT_NAME')"
   ]
  },
  {
   "cell_type": "code",
   "execution_count": 9,
   "metadata": {},
   "outputs": [],
   "source": [
    "# Set off MLflow warnings \n",
    "import logging\n",
    "mlflow_logger = logging.getLogger(\"mlflow\")\n",
    "mlflow_logger.setLevel(logging.ERROR)"
   ]
  },
  {
   "cell_type": "code",
   "execution_count": null,
   "metadata": {},
   "outputs": [],
   "source": [
    "device = torch.device(\"cuda:0\" if torch.cuda.is_available() else \"cpu\")\n",
    "\n",
    "#Set hyperparameter\n",
    "EPOCH = 10\n",
    "LR = 0.001\n",
    "momentum = 0\n",
    "weight_decay = 0\n",
    "opt = 'Adam' \n",
    "run_name='Exp_1'"
   ]
  },
  {
   "cell_type": "code",
   "execution_count": null,
   "metadata": {},
   "outputs": [],
   "source": [
    "# Starting MLflow \n",
    "\n",
    "with mlflow.start_run(run_name = run_name) as run:                            # starting experiment with name \"run_name\"\n",
    "    net = ResNet18(Residual_block).to(device)\n",
    "    loss_func = nn.CrossEntropyLoss()\n",
    "    optimizer = optim.Adam(net.parameters(), lr=LR, \n",
    "                          weight_decay = weight_decay)                         #momentum=0.9, weight_decay=5e-4 \n",
    "    \n",
    "    mlflow.log_param(\"momentum\", momentum)\n",
    "    mlflow.log_param(\"weight_decay\", weight_decay)\n",
    "    mlflow.log_param(\"lr\", LR)\n",
    "    mlflow.log_param(\"optimizer\", opt)\n",
    "    mlflow.log_param(\"epochs\", EPOCH )\n",
    "    \n",
    "    maxacc = 0\n",
    "    itr_record = 0\n",
    "\n",
    "    for epoch in range(EPOCH):\n",
    "        epoch += 1\n",
    "        net.train()\n",
    "        train_loss = 0.0\n",
    "        test_loss = 0.0\n",
    "        max_train_acc = 0\n",
    "        max_test_acc = 0\n",
    "        correct = 0.0\n",
    "        train_samples = 0.0\n",
    "        test_samples = 0.0\n",
    "\n",
    "        print(f'Началось обучение {epoch} эпохи')\n",
    "        \n",
    "        for itr, data in enumerate(train_loader):\n",
    "            # if itr == 5:                                                      # to stop the model for checking\n",
    "            #     break\n",
    "            inputs, labels = data \n",
    "            inputs, labels = inputs.to(device), labels.to(device)\n",
    "           \n",
    "            outputs = net(inputs)\n",
    "           \n",
    "            loss = loss_func(outputs, labels)\n",
    "            optimizer.zero_grad()\n",
    "            loss.backward()\n",
    "            optimizer.step()\n",
    "        \n",
    "            train_loss += loss.item() * outputs.size(0)                          # train_loss+= mean_batch_loss * batch_size \n",
    "                                                                                 #  Multiplication by outputs.size(0) (batch) is  a transformation of the average\n",
    "                                                                                 #  LOSS value for the batch into the total.  \n",
    "            _, predicted = torch.max(outputs.data, 1)                            # _,#  predicted - value tensor, number of index with max value.\n",
    "                                                                                 # .data #  link two tensors        \n",
    "            train_samples += outputs.size(0)                                     #  Counts the number of photos.\n",
    "            correct += predicted.eq(labels.data).cpu().sum()                     # Sums up the number of matching  with labels.    \n",
    "                        \n",
    "        train_loss /= train_samples\n",
    "        train_acc = 100*correct / train_samples                                  # Accuracy  \n",
    "        \n",
    "        mlflow.log_metric(\"train_loss\", train_loss, step=epoch)\n",
    "        mlflow.log_metric(\"train_acc\", train_acc, step=epoch)\n",
    "        print(f'The Epoch {epoch}:')\n",
    "        print(f'Train loss - {train_loss:.3f}, Train accuracy - {train_acc:.2f} %')\n",
    "\n",
    "        net.eval()\n",
    "        \n",
    "        \n",
    "        correct = 0\n",
    "        \n",
    "        with torch.no_grad():\n",
    "            for itr, data in enumerate(test_loader):\n",
    "                # if itr == 5:\n",
    "                #     break\n",
    "                inputs, labels = data \n",
    "                inputs, labels = inputs.to(device), labels.to(device)\n",
    "                outputs = net(inputs)\n",
    "                loss = loss_func(outputs, labels)\n",
    "\n",
    "                test_loss += loss.item() * outputs.size(0)\n",
    "                _, predicted = torch.max(outputs.data, 1)                  \n",
    "                test_samples += outputs.size(0)                            \n",
    "            \n",
    "                correct += predicted.eq(labels.data).cpu().sum()\n",
    "\n",
    "        test_loss /= test_samples\n",
    "        test_acc = 100*correct / test_samples\n",
    "       \n",
    "        mlflow.log_metric(\"test_loss\", test_loss, step=epoch)\n",
    "        mlflow.log_metric(\"test_acc\", test_acc, step=epoch)\n",
    "        print(f'Test loss - {test_loss:.3f}, Test accuracy - {test_acc:.2f} %')\n",
    "\n",
    "        if test_acc > maxacc:\n",
    "            print('Saving model because its better')\n",
    "            maxacc = test_acc\n",
    "            mlflow.pytorch.log_model(net, \"MODEL_NAME\")                                          # Indicate model name \"MODEL_NAME\"\n",
    "        print('-------')\n",
    "\n",
    "    print(f'Max accuracy - {maxacc:.2f} %')\n",
    "    mlflow.log_metric(\"max test accuracy\", maxacc)\n",
    "\n",
    "mlflow.end_run()"
   ]
  }
 ],
 "metadata": {
  "kernelspec": {
   "display_name": "Python 3",
   "language": "python",
   "name": "python3"
  },
  "language_info": {
   "codemirror_mode": {
    "name": "ipython",
    "version": 3
   },
   "file_extension": ".py",
   "mimetype": "text/x-python",
   "name": "python",
   "nbconvert_exporter": "python",
   "pygments_lexer": "ipython3",
   "version": "3.13.2"
  }
 },
 "nbformat": 4,
 "nbformat_minor": 2
}
