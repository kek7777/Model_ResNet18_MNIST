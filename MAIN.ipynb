{
 "cells": [
  {
   "cell_type": "code",
   "execution_count": null,
   "metadata": {},
   "outputs": [],
   "source": [
    "# Import packages\n",
    "from torch import nn \n",
    "import torch\n",
    "from torch import optim \n",
    "from torch.utils.data import DataLoader\n",
    "from matplotlib import pyplot as plt\n",
    "from dataset import train_data, test_data\n",
    "from residual_block import Residual_block\n",
    "from resnet18 import ResNet18"
   ]
  },
  {
   "cell_type": "code",
   "execution_count": 2,
   "metadata": {},
   "outputs": [],
   "source": [
    "# Create DATALoader\n",
    "train_loader = DataLoader(train_data, batch_size = 16, shuffle = True)\n",
    "test_loader = DataLoader(test_data, batch_size = 16, shuffle = False)"
   ]
  },
  {
   "cell_type": "code",
   "execution_count": 17,
   "metadata": {},
   "outputs": [
    {
     "name": "stdout",
     "output_type": "stream",
     "text": [
      "cpu\n"
     ]
    }
   ],
   "source": [
    "device = torch.device(\"cuda:0\" if torch.cuda.is_available() else \"cpu\")\n",
    "print(device)\n",
    "\n",
    "train_losses = []\n",
    "test_losses = []\n",
    "\n",
    "#define ResNet18\n",
    "net = ResNet18(Residual_block).to(device)\n",
    "\n",
    "#set hyperparameter\n",
    "EPOCH = 1\n",
    "LR = 0.001\n",
    "\n",
    "#define loss funtion & optimizer\n",
    "loss_func = nn.CrossEntropyLoss()\n",
    "optimizer = optim.SGD(net.parameters(), lr=LR)                      # momentum=0.9, weight_decay=5e-4\n"
   ]
  },
  {
   "cell_type": "code",
   "execution_count": null,
   "metadata": {},
   "outputs": [
    {
     "name": "stdout",
     "output_type": "stream",
     "text": [
      "\n",
      "Epoch_train: 1\n",
      "[epoch:1, iter:1] Loss: 2.281 | Acc: 31.25% \n"
     ]
    },
    {
     "ename": "KeyboardInterrupt",
     "evalue": "",
     "output_type": "error",
     "traceback": [
      "\u001b[1;31m---------------------------------------------------------------------------\u001b[0m",
      "\u001b[1;31mKeyboardInterrupt\u001b[0m                         Traceback (most recent call last)",
      "Cell \u001b[1;32mIn[14], line 26\u001b[0m\n\u001b[0;32m     24\u001b[0m outputs \u001b[38;5;241m=\u001b[39m net(inputs)\n\u001b[0;32m     25\u001b[0m loss \u001b[38;5;241m=\u001b[39m loss_func(outputs, labels)          \n\u001b[1;32m---> 26\u001b[0m \u001b[43mloss\u001b[49m\u001b[38;5;241;43m.\u001b[39;49m\u001b[43mbackward\u001b[49m\u001b[43m(\u001b[49m\u001b[43m)\u001b[49m\n\u001b[0;32m     27\u001b[0m optimizer\u001b[38;5;241m.\u001b[39mstep()\n\u001b[0;32m     29\u001b[0m \u001b[38;5;66;03m#print ac & loss in each batch\u001b[39;00m\n",
      "File \u001b[1;32mc:\\Users\\Admin\\AppData\\Local\\Programs\\Python\\Python313\\Lib\\site-packages\\torch\\_tensor.py:626\u001b[0m, in \u001b[0;36mTensor.backward\u001b[1;34m(self, gradient, retain_graph, create_graph, inputs)\u001b[0m\n\u001b[0;32m    616\u001b[0m \u001b[38;5;28;01mif\u001b[39;00m has_torch_function_unary(\u001b[38;5;28mself\u001b[39m):\n\u001b[0;32m    617\u001b[0m     \u001b[38;5;28;01mreturn\u001b[39;00m handle_torch_function(\n\u001b[0;32m    618\u001b[0m         Tensor\u001b[38;5;241m.\u001b[39mbackward,\n\u001b[0;32m    619\u001b[0m         (\u001b[38;5;28mself\u001b[39m,),\n\u001b[1;32m   (...)\u001b[0m\n\u001b[0;32m    624\u001b[0m         inputs\u001b[38;5;241m=\u001b[39minputs,\n\u001b[0;32m    625\u001b[0m     )\n\u001b[1;32m--> 626\u001b[0m \u001b[43mtorch\u001b[49m\u001b[38;5;241;43m.\u001b[39;49m\u001b[43mautograd\u001b[49m\u001b[38;5;241;43m.\u001b[39;49m\u001b[43mbackward\u001b[49m\u001b[43m(\u001b[49m\n\u001b[0;32m    627\u001b[0m \u001b[43m    \u001b[49m\u001b[38;5;28;43mself\u001b[39;49m\u001b[43m,\u001b[49m\u001b[43m \u001b[49m\u001b[43mgradient\u001b[49m\u001b[43m,\u001b[49m\u001b[43m \u001b[49m\u001b[43mretain_graph\u001b[49m\u001b[43m,\u001b[49m\u001b[43m \u001b[49m\u001b[43mcreate_graph\u001b[49m\u001b[43m,\u001b[49m\u001b[43m \u001b[49m\u001b[43minputs\u001b[49m\u001b[38;5;241;43m=\u001b[39;49m\u001b[43minputs\u001b[49m\n\u001b[0;32m    628\u001b[0m \u001b[43m\u001b[49m\u001b[43m)\u001b[49m\n",
      "File \u001b[1;32mc:\\Users\\Admin\\AppData\\Local\\Programs\\Python\\Python313\\Lib\\site-packages\\torch\\autograd\\__init__.py:347\u001b[0m, in \u001b[0;36mbackward\u001b[1;34m(tensors, grad_tensors, retain_graph, create_graph, grad_variables, inputs)\u001b[0m\n\u001b[0;32m    342\u001b[0m     retain_graph \u001b[38;5;241m=\u001b[39m create_graph\n\u001b[0;32m    344\u001b[0m \u001b[38;5;66;03m# The reason we repeat the same comment below is that\u001b[39;00m\n\u001b[0;32m    345\u001b[0m \u001b[38;5;66;03m# some Python versions print out the first line of a multi-line function\u001b[39;00m\n\u001b[0;32m    346\u001b[0m \u001b[38;5;66;03m# calls in the traceback and some print out the last line\u001b[39;00m\n\u001b[1;32m--> 347\u001b[0m \u001b[43m_engine_run_backward\u001b[49m\u001b[43m(\u001b[49m\n\u001b[0;32m    348\u001b[0m \u001b[43m    \u001b[49m\u001b[43mtensors\u001b[49m\u001b[43m,\u001b[49m\n\u001b[0;32m    349\u001b[0m \u001b[43m    \u001b[49m\u001b[43mgrad_tensors_\u001b[49m\u001b[43m,\u001b[49m\n\u001b[0;32m    350\u001b[0m \u001b[43m    \u001b[49m\u001b[43mretain_graph\u001b[49m\u001b[43m,\u001b[49m\n\u001b[0;32m    351\u001b[0m \u001b[43m    \u001b[49m\u001b[43mcreate_graph\u001b[49m\u001b[43m,\u001b[49m\n\u001b[0;32m    352\u001b[0m \u001b[43m    \u001b[49m\u001b[43minputs\u001b[49m\u001b[43m,\u001b[49m\n\u001b[0;32m    353\u001b[0m \u001b[43m    \u001b[49m\u001b[43mallow_unreachable\u001b[49m\u001b[38;5;241;43m=\u001b[39;49m\u001b[38;5;28;43;01mTrue\u001b[39;49;00m\u001b[43m,\u001b[49m\n\u001b[0;32m    354\u001b[0m \u001b[43m    \u001b[49m\u001b[43maccumulate_grad\u001b[49m\u001b[38;5;241;43m=\u001b[39;49m\u001b[38;5;28;43;01mTrue\u001b[39;49;00m\u001b[43m,\u001b[49m\n\u001b[0;32m    355\u001b[0m \u001b[43m\u001b[49m\u001b[43m)\u001b[49m\n",
      "File \u001b[1;32mc:\\Users\\Admin\\AppData\\Local\\Programs\\Python\\Python313\\Lib\\site-packages\\torch\\autograd\\graph.py:823\u001b[0m, in \u001b[0;36m_engine_run_backward\u001b[1;34m(t_outputs, *args, **kwargs)\u001b[0m\n\u001b[0;32m    821\u001b[0m     unregister_hooks \u001b[38;5;241m=\u001b[39m _register_logging_hooks_on_whole_graph(t_outputs)\n\u001b[0;32m    822\u001b[0m \u001b[38;5;28;01mtry\u001b[39;00m:\n\u001b[1;32m--> 823\u001b[0m     \u001b[38;5;28;01mreturn\u001b[39;00m \u001b[43mVariable\u001b[49m\u001b[38;5;241;43m.\u001b[39;49m\u001b[43m_execution_engine\u001b[49m\u001b[38;5;241;43m.\u001b[39;49m\u001b[43mrun_backward\u001b[49m\u001b[43m(\u001b[49m\u001b[43m  \u001b[49m\u001b[38;5;66;43;03m# Calls into the C++ engine to run the backward pass\u001b[39;49;00m\n\u001b[0;32m    824\u001b[0m \u001b[43m        \u001b[49m\u001b[43mt_outputs\u001b[49m\u001b[43m,\u001b[49m\u001b[43m \u001b[49m\u001b[38;5;241;43m*\u001b[39;49m\u001b[43margs\u001b[49m\u001b[43m,\u001b[49m\u001b[43m \u001b[49m\u001b[38;5;241;43m*\u001b[39;49m\u001b[38;5;241;43m*\u001b[39;49m\u001b[43mkwargs\u001b[49m\n\u001b[0;32m    825\u001b[0m \u001b[43m    \u001b[49m\u001b[43m)\u001b[49m  \u001b[38;5;66;03m# Calls into the C++ engine to run the backward pass\u001b[39;00m\n\u001b[0;32m    826\u001b[0m \u001b[38;5;28;01mfinally\u001b[39;00m:\n\u001b[0;32m    827\u001b[0m     \u001b[38;5;28;01mif\u001b[39;00m attach_logging_hooks:\n",
      "\u001b[1;31mKeyboardInterrupt\u001b[0m: "
     ]
    }
   ],
   "source": [
    "# Training cycle\n",
    "for epoch in range(EPOCH):\n",
    "   \n",
    "    print('\\nEpoch_train: %d' % (epoch + 1))\n",
    "   \n",
    "    net.train()\n",
    "    train_loss = 0.0\n",
    "    test_loss = 0.0\n",
    "    max_train_acc = 0\n",
    "    max_test_acc = 0\n",
    "    correct = 0.0\n",
    "    correct1 = 0.0\n",
    "    train_samples = 0\n",
    "    \n",
    "    for i, data in enumerate(train_loader, 0):\n",
    "        if i == 5:\n",
    "            break\n",
    "        #prepare dataset\n",
    "        length = len(train_loader)\n",
    "        inputs, labels = data \n",
    "        inputs, labels = inputs.to(device), labels.to(device)\n",
    "        optimizer.zero_grad()\n",
    "        \n",
    "        #forward & backward\n",
    "        outputs = net(inputs)\n",
    "        loss = loss_func(outputs, labels)          \n",
    "        loss.backward()\n",
    "        optimizer.step()\n",
    "        \n",
    "        #print ac & loss in each batch\n",
    "        train_loss += loss.item() * outputs.size(0)                # train_loss+= mean_batch_loss * batch_size \n",
    "                                                                   #  multiplication by outputs.size(0) (batch) is  a transformation of the average LOSS value for the batch into the  \n",
    "                                                                   #  for the batch into the total\n",
    "        train_samples += outputs.size(0)                           #  counts the number of photos\n",
    "        _, predicted = torch.max(outputs.data, 1)                  # _,#  predicted - value tensor, number of index with max value\n",
    "                                                                   # .data #  link two tensors\n",
    "        correct += predicted.eq(labels.data).cpu().sum()           # sums up the number of matching  with labels\n",
    "        acc_train = 100*correct / train_samples                    # accuracy  \n",
    "              \n",
    "                      \n",
    "        \n",
    "        if acc_train > max_train_acc:\n",
    "            max_train_acc = acc_train\n",
    "            min_train_loss = train_loss / train_samples\n",
    "                              \n",
    "        print('[epoch:%d, iter:%d] Loss: %.03f | Acc: %.2f%% ' \n",
    "              % (epoch + 1, (i + 1 ), train_loss / train_samples, acc_train))                \n",
    "        \n",
    "    train_losses.append(train_loss / train_samples)\n",
    "    \n",
    "\n",
    "    print('\\nEpoch_test: %d' % (epoch + 1))    \n",
    "    \n",
    "    with torch.no_grad():\n",
    "        correct = 0\n",
    "        test_samples = 0\n",
    "        for i, data in enumerate(test_loader):          \n",
    "            # if i == 5:                                                   # to stop the model for checking\n",
    "            #     break\n",
    "            net.eval()\n",
    "            inputs, labels = data\n",
    "            inputs, labels = inputs.to(device), labels.to(device)\n",
    "            outputs = net(inputs)\n",
    "            loss = loss_func(outputs, labels)\n",
    "            _, predicted = torch.max(outputs.data, 1)\n",
    "            test_loss += loss.item() * outputs.size(0)\n",
    "            test_samples += outputs.size(0)\n",
    "            correct += (predicted == labels).sum()\n",
    "            acc_test = 100*correct / train_samples    \n",
    "            \n",
    "            print('[epoch:%d, iter:%d] Loss: %.03f | Acc: %.2f%% ' \n",
    "              % (epoch + 1, (i + 1 + epoch * length), test_loss / test_samples,  acc_test))        \n",
    "    \n",
    "            if acc_test > max_test_acc:\n",
    "                max_test_acc = acc_test\n",
    "                min_test_loss = test_loss / test_samples\n",
    "                torch.save(net, f'model_my_resnet18.pth')                 # saves the model with the best performance\n",
    "    \n",
    "        \n",
    "    test_losses.append(test_loss / test_samples)\n",
    "        \n",
    "    print('------------')\n",
    "    print('MAX_train_acc: %.2f%% ' % (max_train_acc))      \n",
    "    print('MAX_test_acc: %.2f%% ' % (max_test_acc))\n",
    "    print('MIN_train_loss: %.3f ' % (min_train_loss))      \n",
    "    print('MIN_test_loss: %.3f ' % (min_test_loss))   \n",
    "  \n",
    "        \n",
    "        "
   ]
  },
  {
   "cell_type": "code",
   "execution_count": null,
   "metadata": {},
   "outputs": [],
   "source": [
    "plt.plot(train_losses, label=\"Training Loss\",linewidth=2)\n",
    "plt.plot(test_losses, label=\"Test Loss\",linewidth=2)\n",
    "plt.title('Training and Test Loss Curve')\n",
    "plt.xlabel('Epochs')\n",
    "plt.ylabel('Loss')\n",
    "plt.legend()\n",
    "plt.show()"
   ]
  }
 ],
 "metadata": {
  "kernelspec": {
   "display_name": "Python 3",
   "language": "python",
   "name": "python3"
  },
  "language_info": {
   "codemirror_mode": {
    "name": "ipython",
    "version": 3
   },
   "file_extension": ".py",
   "mimetype": "text/x-python",
   "name": "python",
   "nbconvert_exporter": "python",
   "pygments_lexer": "ipython3",
   "version": "3.13.2"
  }
 },
 "nbformat": 4,
 "nbformat_minor": 2
}
