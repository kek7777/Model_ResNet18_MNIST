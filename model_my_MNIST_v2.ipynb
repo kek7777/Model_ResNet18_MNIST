{
 "cells": [
  {
   "cell_type": "markdown",
   "metadata": {},
   "source": [
    "\n",
    "# <span style=\"color: red\"> **Classification my_MNIST by RESNET18**</span> "
   ]
  },
  {
   "cell_type": "markdown",
   "metadata": {},
   "source": [
    "\n",
    "<img src=\"arh_resnet18.png\" width=\"900\" height=\"220\">\n"
   ]
  },
  {
   "cell_type": "markdown",
   "metadata": {},
   "source": [
    "### <span style=\"color: red\"> **Data propagation**</span> "
   ]
  },
  {
   "cell_type": "code",
   "execution_count": 1,
   "metadata": {},
   "outputs": [],
   "source": [
    "import torch\n",
    "import torch.nn as nn\n",
    "import torch.nn.functional as F\n",
    "import torch.optim as optim\n",
    "import torchvision\n",
    "import torchvision.transforms as tfs\n",
    "import torchvision.datasets as dst\n",
    "from torch.utils.data import TensorDataset, DataLoader, random_split\n",
    "import os\n",
    "import mlflow\n",
    "import matplotlib.pyplot as plt\n"
   ]
  },
  {
   "cell_type": "code",
   "execution_count": 2,
   "metadata": {},
   "outputs": [],
   "source": [
    "data_tfs = tfs.Compose([\n",
    "    tfs.ToTensor(),\n",
    "    tfs.Resize((224, 224)),\n",
    "    tfs.Grayscale()\n",
    "])\n",
    "train_data = dst.ImageFolder(r'C:\\Users\\Admin\\My_project_1\\my_MNIST\\Train_data', transform = data_tfs)\n",
    "test_data =  dst.ImageFolder(r'C:\\Users\\Admin\\My_project_1\\my_MNIST\\Test_data', transform = data_tfs)"
   ]
  },
  {
   "cell_type": "code",
   "execution_count": 3,
   "metadata": {},
   "outputs": [
    {
     "name": "stdout",
     "output_type": "stream",
     "text": [
      "['class_0', 'class_1', 'class_2', 'class_3', 'class_4', 'class_5', 'class_6', 'class_7', 'class_8', 'class_9']\n",
      "{'class_0': 0, 'class_1': 1, 'class_2': 2, 'class_3': 3, 'class_4': 4, 'class_5': 5, 'class_6': 6, 'class_7': 7, 'class_8': 8, 'class_9': 9}\n",
      "['class_0', 'class_1', 'class_2', 'class_3', 'class_4', 'class_5', 'class_6', 'class_7', 'class_8', 'class_9']\n",
      "{'class_0': 0, 'class_1': 1, 'class_2': 2, 'class_3': 3, 'class_4': 4, 'class_5': 5, 'class_6': 6, 'class_7': 7, 'class_8': 8, 'class_9': 9}\n",
      "Длина тренировочных данных: 3000\n",
      "Длина тестовых данных: 1000\n"
     ]
    }
   ],
   "source": [
    "print(train_data.classes)\n",
    "print(train_data.class_to_idx)\n",
    "\n",
    "print(test_data.classes)\n",
    "print(test_data.class_to_idx)\n",
    "\n",
    "print(f'Длина тренировочных данных: {len(train_data)}')\n",
    "print(f'Длина тестовых данных: {len(test_data)}')"
   ]
  },
  {
   "cell_type": "code",
   "execution_count": 3,
   "metadata": {},
   "outputs": [],
   "source": [
    "# train_data, val_data = random_split(train_data, [0.8,0.2])    \n",
    "train_data, test_data = random_split(train_data, [0.8,0.2])"
   ]
  },
  {
   "cell_type": "code",
   "execution_count": 4,
   "metadata": {},
   "outputs": [
    {
     "name": "stdout",
     "output_type": "stream",
     "text": [
      "Длина тренировочного датасета:3000\n",
      "Длина тестового датасета:1000\n"
     ]
    }
   ],
   "source": [
    "print(f'Длина тренировочного датасета:{len(train_data)}')\n",
    "# print(f'Длина валидационного датасета:{len(val_data)}')\n",
    "print(f'Длина тестового датасета:{len(test_data)}')"
   ]
  },
  {
   "cell_type": "code",
   "execution_count": 5,
   "metadata": {},
   "outputs": [],
   "source": [
    "# создание DATALoader\n",
    "train_loader = DataLoader(train_data, batch_size = 16, shuffle = True)\n",
    "# val_loader = DataLoader(val_data, batch_size = 16, shuffle = False)\n",
    "test_loader = DataLoader(test_data, batch_size = 16, shuffle = False)"
   ]
  },
  {
   "cell_type": "code",
   "execution_count": 15,
   "metadata": {},
   "outputs": [
    {
     "name": "stdout",
     "output_type": "stream",
     "text": [
      "torch.Size([1, 224, 224])\n",
      "6\n",
      "(tensor([[[0., 0., 0.,  ..., 0., 0., 0.],\n",
      "         [0., 0., 0.,  ..., 0., 0., 0.],\n",
      "         [0., 0., 0.,  ..., 0., 0., 0.],\n",
      "         ...,\n",
      "         [0., 0., 0.,  ..., 0., 0., 0.],\n",
      "         [0., 0., 0.,  ..., 0., 0., 0.],\n",
      "         [0., 0., 0.,  ..., 0., 0., 0.]]]), 6)\n"
     ]
    }
   ],
   "source": [
    "img, label = train_loader.dataset[10]\n",
    "print(img.size())\n",
    "print(label)\n",
    "print(train_loader.dataset[10])\n"
   ]
  },
  {
   "cell_type": "markdown",
   "metadata": {},
   "source": [
    "### <span style=\"color: red\"> **Model ResNet18**</span> "
   ]
  },
  {
   "cell_type": "code",
   "execution_count": 6,
   "metadata": {},
   "outputs": [],
   "source": [
    "#building residual block (num = 8)\n",
    "class Residual_block (nn.Module):\n",
    "    def __init__(self, in_block, out_block, stride=1):\n",
    "         super(Residual_block, self).__init__()\n",
    "         self.conv1 = nn.Conv2d(in_block, out_block, kernel_size=3, stride=stride, padding=1, bias=False)\n",
    "         self.bn1 = nn.BatchNorm2d(out_block)\n",
    "         self.relu = nn.ReLU(inplace=True)\n",
    "         self.conv2 = nn.Conv2d(out_block, out_block, kernel_size=3, stride=1, padding=1, bias=False)\n",
    "         self.bn2 = nn.BatchNorm2d(out_block)\n",
    "\n",
    "         self.skip_connect = nn.Sequential()\n",
    "         if stride != 1 or in_block != out_block:\n",
    "              self.skip_connect = nn.Sequential(\n",
    "                nn.Conv2d(in_block, out_block, kernel_size=1, stride=stride, bias=False),\n",
    "                nn.BatchNorm2d(out_block)\n",
    "            )\n",
    "    def forward(self, x):\n",
    "        out = self.conv1(x)\n",
    "        out = self.bn1(out)\n",
    "        out = self.relu(out)\n",
    "        out = self.conv2(out)\n",
    "        out = self.bn2(out)\n",
    "        out += self.skip_connect(x)\n",
    "        out = self.relu(out)\n",
    "        return out\n",
    "          \n",
    "        "
   ]
  },
  {
   "cell_type": "code",
   "execution_count": null,
   "metadata": {},
   "outputs": [],
   "source": [
    "#building ResNet 18  (it is all architecture) \n",
    "class ResNet18 (nn.Module):\n",
    "    def __init__(self, Residual_block, num_classes=10):\n",
    "         super(ResNet18, self).__init__()\n",
    "         self.in_block = 64                                               # 1 input image channel, 64 output channels, 7x7 square conv kernel\n",
    "         self.conv1 = nn.Conv2d(1, 64, kernel_size = 7, stride = 2, padding = 3, bias=False) #  на выходе получаем 64 шт. 112*112\n",
    "\n",
    "         self.bn1 = nn.BatchNorm2d(64)\n",
    "         self.relu = nn.ReLU(inplace=True)\n",
    "         self.maxpool = nn.MaxPool2d(kernel_size=3, stride=2, padding=1)  #  на выходе получаем 64 шт. 55*55\n",
    "         \n",
    "         self.layer1 = self.make_layer(Residual_block, 64, 2, stride=1)    #  создание 4 остаточных групп (2 - количество блоков в группе)\n",
    "         self.layer2 = self.make_layer(Residual_block, 128, 2, stride=2)\n",
    "         self.layer3 = self.make_layer(Residual_block, 256, 2, stride=2)\n",
    "         self.layer4 = self.make_layer(Residual_block, 512, 2, stride=2)\n",
    "        \n",
    "         self.avgpool = nn.AdaptiveAvgPool2d((1, 1))      #  выход (1,1)\n",
    "         self.fc = nn.Linear(512, num_classes)\n",
    "\n",
    "    def make_layer(self, block, out_block, num_blocks, stride):\n",
    "        strides = [stride] + [1] * (num_blocks - 1)\n",
    "        layers = []\n",
    "        for stride in strides:\n",
    "            layers.append(block(self.in_block, out_block, stride))\n",
    "            self.in_block = out_block\n",
    "        return nn.Sequential(*layers)                             # выводит не список, а значения элементов списка\n",
    "  \n",
    "    \n",
    "    def forward(self, x):\n",
    "        out = self.conv1(x)\n",
    "        out = self.bn1(out)\n",
    "        out = self.relu(out)\n",
    "        out = self.maxpool(out)\n",
    "\n",
    "        out = self.layer1(out)\n",
    "        out = self.layer2(out)\n",
    "        out = self.layer3(out)\n",
    "        out = self.layer4(out)\n",
    "\n",
    "        out = self.avgpool(out)\n",
    "        out = out.view(out.size(0), -1)             # расчет функции потерь; view(-1) преобразует torch.Size([128, 1])  в torch.Size([128])\n",
    "        out = self.fc(out)\n",
    "        # print (out.shape)\n",
    "        # exit\n",
    "        return out\n",
    "    "
   ]
  },
  {
   "cell_type": "code",
   "execution_count": 8,
   "metadata": {},
   "outputs": [],
   "source": [
    "def ResNet():\n",
    "    return ResNet18(Residual_block)"
   ]
  },
  {
   "cell_type": "markdown",
   "metadata": {},
   "source": [
    "### <span style=\"color: red\"> **Обучение модели в VS**</span> "
   ]
  },
  {
   "cell_type": "code",
   "execution_count": 9,
   "metadata": {},
   "outputs": [
    {
     "name": "stdout",
     "output_type": "stream",
     "text": [
      "cpu\n"
     ]
    }
   ],
   "source": [
    "device = torch.device(\"cuda:0\" if torch.cuda.is_available() else \"cpu\")\n",
    "print(device)\n",
    "\n",
    "train_losses = []\n",
    "test_losses = []\n",
    "\n",
    "#define ResNet18\n",
    "net = ResNet().to(device)\n",
    "\n",
    "#set hyperparameter\n",
    "EPOCH = 2\n",
    "LR = 0.001\n",
    "\n",
    "#define loss funtion & optimizer\n",
    "loss_func = nn.CrossEntropyLoss()\n",
    "optimizer = optim.SGD(net.parameters(), lr=LR)                      # momentum=0.9, weight_decay=5e-4\n"
   ]
  },
  {
   "cell_type": "code",
   "execution_count": 11,
   "metadata": {},
   "outputs": [
    {
     "name": "stdout",
     "output_type": "stream",
     "text": [
      "\n",
      "Epoch_train: 1\n",
      "[epoch:1, iter:1] Loss: 2.364 | Acc: 25.00% \n",
      "[epoch:1, iter:2] Loss: 2.385 | Acc: 12.50% \n",
      "[epoch:1, iter:3] Loss: 2.391 | Acc: 10.42% \n",
      "[epoch:1, iter:4] Loss: 2.385 | Acc: 10.94% \n",
      "[epoch:1, iter:5] Loss: 2.381 | Acc: 10.00% \n",
      "\n",
      "Epoch_test: 1\n",
      "[epoch:1, iter:1] Loss: 2.274 | Acc: 0.00% \n",
      "[epoch:1, iter:2] Loss: 2.274 | Acc: 0.00% \n",
      "[epoch:1, iter:3] Loss: 2.274 | Acc: 0.00% \n",
      "[epoch:1, iter:4] Loss: 2.274 | Acc: 0.00% \n",
      "[epoch:1, iter:5] Loss: 2.274 | Acc: 0.00% \n",
      "------------\n",
      "MAX_train_acc: 25.00% \n",
      "MAX_test_acc: 0.00% \n",
      "MIN_train_loss: 2.364 \n"
     ]
    },
    {
     "ename": "NameError",
     "evalue": "name 'min_test_loss' is not defined",
     "output_type": "error",
     "traceback": [
      "\u001b[1;31m---------------------------------------------------------------------------\u001b[0m",
      "\u001b[1;31mNameError\u001b[0m                                 Traceback (most recent call last)",
      "Cell \u001b[1;32mIn[11], line 86\u001b[0m\n\u001b[0;32m     84\u001b[0m \u001b[38;5;28mprint\u001b[39m(\u001b[38;5;124m'\u001b[39m\u001b[38;5;124mMAX_test_acc: \u001b[39m\u001b[38;5;132;01m%.2f\u001b[39;00m\u001b[38;5;132;01m%%\u001b[39;00m\u001b[38;5;124m \u001b[39m\u001b[38;5;124m'\u001b[39m \u001b[38;5;241m%\u001b[39m (max_test_acc))\n\u001b[0;32m     85\u001b[0m \u001b[38;5;28mprint\u001b[39m(\u001b[38;5;124m'\u001b[39m\u001b[38;5;124mMIN_train_loss: \u001b[39m\u001b[38;5;132;01m%.3f\u001b[39;00m\u001b[38;5;124m \u001b[39m\u001b[38;5;124m'\u001b[39m \u001b[38;5;241m%\u001b[39m (min_train_loss))      \n\u001b[1;32m---> 86\u001b[0m \u001b[38;5;28mprint\u001b[39m(\u001b[38;5;124m'\u001b[39m\u001b[38;5;124mMIN_test_loss: \u001b[39m\u001b[38;5;132;01m%.3f\u001b[39;00m\u001b[38;5;124m \u001b[39m\u001b[38;5;124m'\u001b[39m \u001b[38;5;241m%\u001b[39m (\u001b[43mmin_test_loss\u001b[49m))   \n",
      "\u001b[1;31mNameError\u001b[0m: name 'min_test_loss' is not defined"
     ]
    }
   ],
   "source": [
    "for epoch in range(EPOCH):\n",
    "   \n",
    "    print('\\nEpoch_train: %d' % (epoch + 1))\n",
    "   \n",
    "    net.train()\n",
    "    train_loss = 0.0\n",
    "    test_loss = 0.0\n",
    "    max_train_acc = 0\n",
    "    max_test_acc = 0\n",
    "    correct = 0.0\n",
    "    correct1 = 0.0\n",
    "    train_samples = 0\n",
    "    \n",
    "    for i, data in enumerate(train_loader, 0):\n",
    "        if i == 5:\n",
    "            break\n",
    "        #prepare dataset\n",
    "        length = len(train_loader)\n",
    "        inputs, labels = data \n",
    "        inputs, labels = inputs.to(device), labels.to(device)\n",
    "        optimizer.zero_grad()\n",
    "        \n",
    "        #forward & backward\n",
    "        outputs = net(inputs)\n",
    "        loss = loss_func(outputs, labels)          \n",
    "        loss.backward()\n",
    "        optimizer.step()\n",
    "        \n",
    "        #print ac & loss in each batch\n",
    "        train_loss += loss.item() * outputs.size(0)                  # train_loss+= mean_batch_loss * batch_size \n",
    "                                                                   # Умножение на outputs.size(0) (батч) это по сути преобразование среднего значения ЛОСС за батч в\n",
    "                                                                   #  суммарное, поскольку для подсчета Лосс за прогон суммарное за батч делиться на общее количество\n",
    "                                                                   # фоток в прогоне, а не на количество итераций.\n",
    "        train_samples += outputs.size(0)                           #подсчитвыет количество фото\n",
    "        _, predicted = torch.max(outputs.data, 1)                  # _, predicted - значение тензора, номер индекса с этим максимальным значением\n",
    "                                                                    # .data связывает между собой два тензора\n",
    "        correct += predicted.eq(labels.data).cpu().sum()          # суммирует количество совпадающих 1 с labels\n",
    "        acc_train = 100*correct / train_samples                    # точность 100. * correct / train_samples  \n",
    "              \n",
    "                      \n",
    "        \n",
    "        if acc_train > max_train_acc:\n",
    "            max_train_acc = acc_train\n",
    "            min_train_loss = train_loss / train_samples\n",
    "                              \n",
    "        print('[epoch:%d, iter:%d] Loss: %.03f | Acc: %.2f%% ' \n",
    "              % (epoch + 1, (i + 1 ), train_loss / train_samples, acc_train))                \n",
    "        \n",
    "    train_losses.append(train_loss / train_samples)\n",
    "    \n",
    "\n",
    "    print('\\nEpoch_test: %d' % (epoch + 1))    \n",
    "    \n",
    "    with torch.no_grad():\n",
    "        correct = 0\n",
    "        test_samples = 0\n",
    "        for i, data in enumerate(test_loader):          \n",
    "            if i == 5:\n",
    "                break\n",
    "            net.eval()\n",
    "            inputs, labels = data\n",
    "            inputs, labels = inputs.to(device), labels.to(device)\n",
    "            outputs = net(inputs)\n",
    "            loss = loss_func(outputs, labels)\n",
    "            _, predicted = torch.max(outputs.data, 1)\n",
    "            test_loss += loss.item() * outputs.size(0)\n",
    "            test_samples += outputs.size(0)\n",
    "            correct += (predicted == labels).sum()\n",
    "            acc_test = 100*correct / train_samples    \n",
    "            \n",
    "            print('[epoch:%d, iter:%d] Loss: %.03f | Acc: %.2f%% ' \n",
    "              % (epoch + 1, (i + 1 + epoch * length), test_loss / test_samples,  acc_test))        \n",
    "    \n",
    "            if acc_test > max_test_acc:\n",
    "                max_test_acc = acc_test\n",
    "                min_test_loss = test_loss / test_samples\n",
    "                torch.save(net, f'model_my_resnet18.pth')            # сохраняет модель с лучшими показателями\n",
    "    \n",
    "        \n",
    "    test_losses.append(test_loss / test_samples)\n",
    "        \n",
    "    print('------------')\n",
    "    print('MAX_train_acc: %.2f%% ' % (max_train_acc))      \n",
    "    print('MAX_test_acc: %.2f%% ' % (max_test_acc))\n",
    "    print('MIN_train_loss: %.3f ' % (min_train_loss))      \n",
    "    print('MIN_test_loss: %.3f ' % (min_test_loss))   \n",
    "  \n",
    "        \n",
    "        "
   ]
  },
  {
   "cell_type": "code",
   "execution_count": 11,
   "metadata": {},
   "outputs": [
    {
     "data": {
      "image/png": "[encoded data removed]",
      "text/plain": [
       "<Figure size 640x480 with 1 Axes>"
      ]
     },
     "metadata": {},
     "output_type": "display_data"
    }
   ],
   "source": [
    "\n",
    "plt.plot(train_losses, label=\"Training Loss\",linewidth=2)\n",
    "plt.plot(test_losses, label=\"Test Loss\",linewidth=2)\n",
    "plt.title('Training and Test Loss Curve')\n",
    "plt.xlabel('Epochs')\n",
    "plt.ylabel('Loss')\n",
    "plt.legend()\n",
    "plt.show()\n"
   ]
  },
  {
   "cell_type": "code",
   "execution_count": 27,
   "metadata": {},
   "outputs": [
    {
     "name": "stdout",
     "output_type": "stream",
     "text": [
      "The 1 Epoch of network learning is over:\n",
      "Train results Epoch 1: Train loss - 1.9490, Train accuracy - 0.4625\n",
      "Validation results Epoch 1: Val loss - 2.0483, Val accuracy - 0.1875\n",
      "Saving model because its better\n",
      "---\n",
      "The 2 Epoch of network learning is over:\n",
      "Train results Epoch 2: Train loss - 1.9895, Train accuracy - 0.3000\n",
      "Validation results Epoch 2: Val loss - 2.0377, Val accuracy - 0.3000\n",
      "Saving model because its better\n",
      "---\n"
     ]
    },
    {
     "ename": "KeyboardInterrupt",
     "evalue": "",
     "output_type": "error",
     "traceback": [
      "\u001b[1;31m---------------------------------------------------------------------------\u001b[0m",
      "\u001b[1;31mKeyboardInterrupt\u001b[0m                         Traceback (most recent call last)",
      "Cell \u001b[1;32mIn[27], line 25\u001b[0m\n\u001b[0;32m     22\u001b[0m     train_samples \u001b[38;5;241m+\u001b[39m\u001b[38;5;241m=\u001b[39m imgs\u001b[38;5;241m.\u001b[39msize(\u001b[38;5;241m0\u001b[39m)\n\u001b[0;32m     24\u001b[0m     optimizer\u001b[38;5;241m.\u001b[39mzero_grad()\n\u001b[1;32m---> 25\u001b[0m     \u001b[43mloss\u001b[49m\u001b[38;5;241;43m.\u001b[39;49m\u001b[43mbackward\u001b[49m\u001b[43m(\u001b[49m\u001b[43m)\u001b[49m\n\u001b[0;32m     26\u001b[0m     optimizer\u001b[38;5;241m.\u001b[39mstep()\n\u001b[0;32m     28\u001b[0m train_loss \u001b[38;5;241m/\u001b[39m\u001b[38;5;241m=\u001b[39m train_samples\n",
      "File \u001b[1;32mc:\\Users\\Admin\\AppData\\Local\\Programs\\Python\\Python313\\Lib\\site-packages\\torch\\_tensor.py:626\u001b[0m, in \u001b[0;36mTensor.backward\u001b[1;34m(self, gradient, retain_graph, create_graph, inputs)\u001b[0m\n\u001b[0;32m    616\u001b[0m \u001b[38;5;28;01mif\u001b[39;00m has_torch_function_unary(\u001b[38;5;28mself\u001b[39m):\n\u001b[0;32m    617\u001b[0m     \u001b[38;5;28;01mreturn\u001b[39;00m handle_torch_function(\n\u001b[0;32m    618\u001b[0m         Tensor\u001b[38;5;241m.\u001b[39mbackward,\n\u001b[0;32m    619\u001b[0m         (\u001b[38;5;28mself\u001b[39m,),\n\u001b[1;32m   (...)\u001b[0m\n\u001b[0;32m    624\u001b[0m         inputs\u001b[38;5;241m=\u001b[39minputs,\n\u001b[0;32m    625\u001b[0m     )\n\u001b[1;32m--> 626\u001b[0m \u001b[43mtorch\u001b[49m\u001b[38;5;241;43m.\u001b[39;49m\u001b[43mautograd\u001b[49m\u001b[38;5;241;43m.\u001b[39;49m\u001b[43mbackward\u001b[49m\u001b[43m(\u001b[49m\n\u001b[0;32m    627\u001b[0m \u001b[43m    \u001b[49m\u001b[38;5;28;43mself\u001b[39;49m\u001b[43m,\u001b[49m\u001b[43m \u001b[49m\u001b[43mgradient\u001b[49m\u001b[43m,\u001b[49m\u001b[43m \u001b[49m\u001b[43mretain_graph\u001b[49m\u001b[43m,\u001b[49m\u001b[43m \u001b[49m\u001b[43mcreate_graph\u001b[49m\u001b[43m,\u001b[49m\u001b[43m \u001b[49m\u001b[43minputs\u001b[49m\u001b[38;5;241;43m=\u001b[39;49m\u001b[43minputs\u001b[49m\n\u001b[0;32m    628\u001b[0m \u001b[43m\u001b[49m\u001b[43m)\u001b[49m\n",
      "File \u001b[1;32mc:\\Users\\Admin\\AppData\\Local\\Programs\\Python\\Python313\\Lib\\site-packages\\torch\\autograd\\__init__.py:347\u001b[0m, in \u001b[0;36mbackward\u001b[1;34m(tensors, grad_tensors, retain_graph, create_graph, grad_variables, inputs)\u001b[0m\n\u001b[0;32m    342\u001b[0m     retain_graph \u001b[38;5;241m=\u001b[39m create_graph\n\u001b[0;32m    344\u001b[0m \u001b[38;5;66;03m# The reason we repeat the same comment below is that\u001b[39;00m\n\u001b[0;32m    345\u001b[0m \u001b[38;5;66;03m# some Python versions print out the first line of a multi-line function\u001b[39;00m\n\u001b[0;32m    346\u001b[0m \u001b[38;5;66;03m# calls in the traceback and some print out the last line\u001b[39;00m\n\u001b[1;32m--> 347\u001b[0m \u001b[43m_engine_run_backward\u001b[49m\u001b[43m(\u001b[49m\n\u001b[0;32m    348\u001b[0m \u001b[43m    \u001b[49m\u001b[43mtensors\u001b[49m\u001b[43m,\u001b[49m\n\u001b[0;32m    349\u001b[0m \u001b[43m    \u001b[49m\u001b[43mgrad_tensors_\u001b[49m\u001b[43m,\u001b[49m\n\u001b[0;32m    350\u001b[0m \u001b[43m    \u001b[49m\u001b[43mretain_graph\u001b[49m\u001b[43m,\u001b[49m\n\u001b[0;32m    351\u001b[0m \u001b[43m    \u001b[49m\u001b[43mcreate_graph\u001b[49m\u001b[43m,\u001b[49m\n\u001b[0;32m    352\u001b[0m \u001b[43m    \u001b[49m\u001b[43minputs\u001b[49m\u001b[43m,\u001b[49m\n\u001b[0;32m    353\u001b[0m \u001b[43m    \u001b[49m\u001b[43mallow_unreachable\u001b[49m\u001b[38;5;241;43m=\u001b[39;49m\u001b[38;5;28;43;01mTrue\u001b[39;49;00m\u001b[43m,\u001b[49m\n\u001b[0;32m    354\u001b[0m \u001b[43m    \u001b[49m\u001b[43maccumulate_grad\u001b[49m\u001b[38;5;241;43m=\u001b[39;49m\u001b[38;5;28;43;01mTrue\u001b[39;49;00m\u001b[43m,\u001b[49m\n\u001b[0;32m    355\u001b[0m \u001b[43m\u001b[49m\u001b[43m)\u001b[49m\n",
      "File \u001b[1;32mc:\\Users\\Admin\\AppData\\Local\\Programs\\Python\\Python313\\Lib\\site-packages\\torch\\autograd\\graph.py:823\u001b[0m, in \u001b[0;36m_engine_run_backward\u001b[1;34m(t_outputs, *args, **kwargs)\u001b[0m\n\u001b[0;32m    821\u001b[0m     unregister_hooks \u001b[38;5;241m=\u001b[39m _register_logging_hooks_on_whole_graph(t_outputs)\n\u001b[0;32m    822\u001b[0m \u001b[38;5;28;01mtry\u001b[39;00m:\n\u001b[1;32m--> 823\u001b[0m     \u001b[38;5;28;01mreturn\u001b[39;00m \u001b[43mVariable\u001b[49m\u001b[38;5;241;43m.\u001b[39;49m\u001b[43m_execution_engine\u001b[49m\u001b[38;5;241;43m.\u001b[39;49m\u001b[43mrun_backward\u001b[49m\u001b[43m(\u001b[49m\u001b[43m  \u001b[49m\u001b[38;5;66;43;03m# Calls into the C++ engine to run the backward pass\u001b[39;49;00m\n\u001b[0;32m    824\u001b[0m \u001b[43m        \u001b[49m\u001b[43mt_outputs\u001b[49m\u001b[43m,\u001b[49m\u001b[43m \u001b[49m\u001b[38;5;241;43m*\u001b[39;49m\u001b[43margs\u001b[49m\u001b[43m,\u001b[49m\u001b[43m \u001b[49m\u001b[38;5;241;43m*\u001b[39;49m\u001b[38;5;241;43m*\u001b[39;49m\u001b[43mkwargs\u001b[49m\n\u001b[0;32m    825\u001b[0m \u001b[43m    \u001b[49m\u001b[43m)\u001b[49m  \u001b[38;5;66;03m# Calls into the C++ engine to run the backward pass\u001b[39;00m\n\u001b[0;32m    826\u001b[0m \u001b[38;5;28;01mfinally\u001b[39;00m:\n\u001b[0;32m    827\u001b[0m     \u001b[38;5;28;01mif\u001b[39;00m attach_logging_hooks:\n",
      "\u001b[1;31mKeyboardInterrupt\u001b[0m: "
     ]
    }
   ],
   "source": [
    "maxacc = 0\n",
    "N_epochs = 5\n",
    "\n",
    "for epoch in range(N_epochs):\n",
    "    epoch += 1\n",
    "    net.train()\n",
    "    train_loss = 0.0\n",
    "    train_acc = 0.0\n",
    "    train_samples = 0\n",
    "\n",
    "    for itr, data in enumerate(train_loader):\n",
    "        if itr == 5:\n",
    "            break\n",
    "        imgs = data[0].to(device)  # [B, H, W]\n",
    "        labels = data[1].to(device)\n",
    "\n",
    "        y_pred = net(imgs)  \n",
    "        loss = criterion(y_pred, labels)\n",
    "\n",
    "        train_loss += loss.item() * imgs.size(0)\n",
    "        train_acc += accuracy(y_pred, labels) * imgs.size(0)\n",
    "        train_samples += imgs.size(0)\n",
    "        \n",
    "        optimizer.zero_grad()\n",
    "        loss.backward()\n",
    "        optimizer.step()\n",
    "\n",
    "    train_loss /= train_samples\n",
    "    train_acc /= train_samples\n",
    "    print(f'The {epoch} Epoch of network learning is over:')\n",
    "    print(f'Train results Epoch {epoch}: Train loss - {train_loss:.4f}, Train accuracy - {train_acc:.4f}')\n",
    "\n",
    "    net.eval()\n",
    "    val_loss = 0.0\n",
    "    val_acc = 0.0\n",
    "    val_samples = 0\n",
    "\n",
    "    with torch.no_grad():\n",
    "        for itr, data in enumerate(test_loader):\n",
    "            if itr == 5:\n",
    "                break\n",
    "            imgs = data[0].to(device)\n",
    "            labels = data[1].to(device)\n",
    "            y_pred = net(imgs)\n",
    "            loss = criterion(y_pred, labels)\n",
    "\n",
    "            val_loss += loss.item() * imgs.size(0)\n",
    "            val_acc += accuracy(y_pred, labels) * imgs.size(0)\n",
    "            val_samples += imgs.size(0)\n",
    "\n",
    "    val_loss /= val_samples\n",
    "    val_acc /=val_samples\n",
    "    print(f'Validation results Epoch {epoch}: Val loss - {val_loss:.4f}, Val accuracy - {val_acc:.4f}')\n",
    "\n",
    "    if val_acc > maxacc:\n",
    "        print('Saving model because its better')\n",
    "        maxacc = val_acc\n",
    "        # torch.save(model, f'mymodel_fc.pth')\n",
    "    print('---')"
   ]
  },
  {
   "cell_type": "code",
   "execution_count": null,
   "metadata": {},
   "outputs": [],
   "source": []
  }
 ],
 "metadata": {
  "kernelspec": {
   "display_name": "Python 3",
   "language": "python",
   "name": "python3"
  },
  "language_info": {
   "codemirror_mode": {
    "name": "ipython",
    "version": 3
   },
   "file_extension": ".py",
   "mimetype": "text/x-python",
   "name": "python",
   "nbconvert_exporter": "python",
   "pygments_lexer": "ipython3",
   "version": "3.13.2"
  }
 },
 "nbformat": 4,
 "nbformat_minor": 2
}
