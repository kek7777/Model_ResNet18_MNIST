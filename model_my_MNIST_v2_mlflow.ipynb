{
 "cells": [
  {
   "cell_type": "markdown",
   "metadata": {},
   "source": [
    "\n",
    "## <span style=\"color: red\"> **Classification by RESNET18**</span> "
   ]
  },
  {
   "cell_type": "code",
   "execution_count": null,
   "metadata": {},
   "outputs": [],
   "source": []
  },
  {
   "cell_type": "code",
   "execution_count": null,
   "metadata": {},
   "outputs": [],
   "source": []
  },
  {
   "cell_type": "markdown",
   "metadata": {},
   "source": [
    "### <span style=\"color: red\"> **Model ResNet18**</span> "
   ]
  },
  {
   "cell_type": "code",
   "execution_count": 3,
   "metadata": {},
   "outputs": [],
   "source": [
    "#building residual block (num = 8)\n",
    "class Residual_block (nn.Module):\n",
    "    def __init__(self, in_block, out_block, stride=1):\n",
    "         super(Residual_block, self).__init__()\n",
    "         self.conv1 = nn.Conv2d(in_block, out_block, kernel_size=3, stride=stride, padding=1, bias=False)\n",
    "         self.bn1 = nn.BatchNorm2d(out_block)\n",
    "         self.relu = nn.ReLU(inplace=True)\n",
    "         self.conv2 = nn.Conv2d(out_block, out_block, kernel_size=3, stride=1, padding=1, bias=False)\n",
    "         self.bn2 = nn.BatchNorm2d(out_block)\n",
    "\n",
    "         self.skip_connect = nn.Sequential()\n",
    "         if stride != 1 or in_block != out_block:\n",
    "              self.skip_connect = nn.Sequential(\n",
    "                nn.Conv2d(in_block, out_block, kernel_size=1, stride=stride, bias=False),\n",
    "                nn.BatchNorm2d(out_block)\n",
    "            )\n",
    "    def forward(self, x):\n",
    "        out = self.conv1(x)\n",
    "        out = self.bn1(out)\n",
    "        out = self.relu(out)\n",
    "        out = self.conv2(out)\n",
    "        out = self.bn2(out)\n",
    "        out += self.skip_connect(x)\n",
    "        out = self.relu(out)\n",
    "        return out\n",
    "          \n",
    "        "
   ]
  },
  {
   "cell_type": "code",
   "execution_count": 2,
   "metadata": {},
   "outputs": [],
   "source": [
    "#building ResNet 18  (it is all architecture) \n",
    "class ResNet18 (nn.Module):\n",
    "    def __init__(self, Residual_block, num_classes=10):\n",
    "         super(ResNet18, self).__init__()\n",
    "         self.in_block = 64                                               # 1 input image channel, 64 output channels, 7x7 square conv kernel\n",
    "         self.conv1 = nn.Conv2d(1, 64, kernel_size = 7, stride = 2, padding = 3, bias=False) #  на выходе получаем 64 шт. 112*112\n",
    "\n",
    "         self.bn1 = nn.BatchNorm2d(64)\n",
    "         self.relu = nn.ReLU(inplace=True)\n",
    "         self.maxpool = nn.MaxPool2d(kernel_size=3, stride=2, padding=1)  #  на выходе получаем 64 шт. 55*55\n",
    "         \n",
    "         self.layer1 = self.make_layer(Residual_block, 64, 2, stride=1)    #  создание 4 остаточных групп (2 - количество блоков в группе)\n",
    "         self.layer2 = self.make_layer(Residual_block, 128, 2, stride=2)\n",
    "         self.layer3 = self.make_layer(Residual_block, 256, 2, stride=2)\n",
    "         self.layer4 = self.make_layer(Residual_block, 512, 2, stride=2)\n",
    "        \n",
    "         self.avgpool = nn.AdaptiveAvgPool2d((1, 1))      #  выход (1,1)\n",
    "         self.drop = nn.Dropout2d()\n",
    "         self.fc = nn.Linear(512, num_classes)\n",
    "\n",
    "    def make_layer(self, block, out_block, num_blocks, stride):\n",
    "        strides = [stride] + [1] * (num_blocks - 1)\n",
    "        layers = []\n",
    "        for stride in strides:\n",
    "            layers.append(block(self.in_block, out_block, stride))\n",
    "            self.in_block = out_block\n",
    "        return nn.Sequential(*layers)                             # выводит не список, а значения элементов списка\n",
    "  \n",
    "    \n",
    "    def forward(self, x):\n",
    "        out = self.conv1(x)\n",
    "        out = self.bn1(out)\n",
    "        out = self.relu(out)\n",
    "        out = self.maxpool(out)\n",
    "\n",
    "        out = self.layer1(out)\n",
    "        out = self.layer2(out)\n",
    "        out = self.layer3(out)\n",
    "        out = self.layer4(out)\n",
    "\n",
    "        out = self.avgpool(out)\n",
    "        out = out.view(out.size(0), -1)             # расчет функции потерь; view(-1) преобразует torch.Size([128, 1])  в torch.Size([128])\n",
    "        out = self.drop(out)\n",
    "        out = self.fc(out)\n",
    "        # print (out.shape)\n",
    "        # exit\n",
    "        return out\n",
    "    "
   ]
  },
  {
   "cell_type": "code",
   "execution_count": 4,
   "metadata": {},
   "outputs": [],
   "source": [
    "def ResNet():\n",
    "    return ResNet18(Residual_block)"
   ]
  },
  {
   "cell_type": "markdown",
   "metadata": {},
   "source": [
    "### <span style=\"color: red\"> **Обучение модели в MLFlow**</span> "
   ]
  },
  {
   "cell_type": "code",
   "execution_count": null,
   "metadata": {},
   "outputs": [],
   "source": [
    "# mlflow server --backend-store-uri \"file:///C:Users/Admin/ML_flow_Tracking/data_local\" --default-artifact-root \"file:///C:Users/Admin/ML_flow_Tracking/artefacts\" --host localhost --port 5000"
   ]
  },
  {
   "cell_type": "code",
   "execution_count": 7,
   "metadata": {},
   "outputs": [],
   "source": [
    "# Укажем юзера который делает эксперименты\n",
    "os.environ['USER'] = 'Evgenii'"
   ]
  },
  {
   "cell_type": "code",
   "execution_count": 8,
   "metadata": {},
   "outputs": [],
   "source": [
    "# Установка Seed для воспроизводимости (seed инициализирует ГСЧ, используемый в библиотеках.\n",
    "#  Для того, чтобы можно было повторить эксперимерт кому-нибудь другому и получить одинаковые результаты указывают значение seed)\n",
    "seed = 42\n",
    "torch.manual_seed(seed)\n",
    "torch.cuda.manual_seed(seed)\n",
    "torch.cuda.manual_seed_all(seed)\n",
    "# np.random.seed(seed)\n",
    "# random.seed(seed)\n",
    "torch.backends.cudnn.benchmark = False\n",
    "torch.backends.cudnn.deterministic = True"
   ]
  },
  {
   "cell_type": "code",
   "execution_count": 9,
   "metadata": {},
   "outputs": [
    {
     "data": {
      "text/plain": [
       "<Experiment: artifact_location='file:C:/Users/Admin/My_project_1/Users/Admin/ML_flow_Tracking/artefact/839351144435899136', creation_time=1741689566276, experiment_id='839351144435899136', last_update_time=1741689566276, lifecycle_stage='active', name='classif_model_my_MNIST', tags={}>"
      ]
     },
     "execution_count": 9,
     "metadata": {},
     "output_type": "execute_result"
    }
   ],
   "source": [
    "# Инициализация MLflow\n",
    "import mlflow.experiments\n",
    "\n",
    "mlflow.set_tracking_uri('http://127.0.0.1:5000/')\n",
    "mlflow.set_experiment('classif_model_my_MNIST')"
   ]
  },
  {
   "cell_type": "code",
   "execution_count": 10,
   "metadata": {},
   "outputs": [],
   "source": [
    "# Отключаем вывод warning от MLflow\n",
    "import logging\n",
    "mlflow_logger = logging.getLogger(\"mlflow\")\n",
    "mlflow_logger.setLevel(logging.ERROR)"
   ]
  },
  {
   "cell_type": "code",
   "execution_count": 15,
   "metadata": {},
   "outputs": [],
   "source": [
    "device = torch.device(\"cuda:0\" if torch.cuda.is_available() else \"cpu\")\n",
    "\n",
    "#set hyperparameter\n",
    "EPOCH = 30\n",
    "LR = 0.001\n",
    "momentum = 0\n",
    "weight_decay = 0\n",
    "drop = 'Yes'\n",
    "opt = 'Adam' \n",
    "run_name='Exp_RN18_12'"
   ]
  },
  {
   "cell_type": "code",
   "execution_count": null,
   "metadata": {},
   "outputs": [
    {
     "name": "stdout",
     "output_type": "stream",
     "text": [
      "Началось обучение 1 эпохи\n"
     ]
    }
   ],
   "source": [
    "# Начало MLflow запуска\n",
    "\n",
    "with mlflow.start_run(run_name = run_name) as run:           # запуск эсперимента под именем \"   \"\n",
    "    net = ResNet().to(device)\n",
    "    loss_func = nn.CrossEntropyLoss()\n",
    "    optimizer = optim.Adam(net.parameters(), lr=LR, \n",
    "                          weight_decay = weight_decay)                         # momentum определяет скорость затухания накапливаемых градиентов (величину импульса)\n",
    "                                                                                 #momentum=0.9, weight_decay=5e-4 \n",
    "    \n",
    "    mlflow.log_param(\"momentum\", momentum)\n",
    "    mlflow.log_param(\"weight_decay\", weight_decay)\n",
    "    mlflow.log_param(\"lr\", LR)\n",
    "    mlflow.log_param(\"optimizer\", opt)\n",
    "    mlflow.log_param(\"epochs\", EPOCH )\n",
    "    mlflow.log_param(\"dropout\", drop )\n",
    "\n",
    "\n",
    "    maxacc = 0\n",
    "    itr_record = 0\n",
    "\n",
    "    for epoch in range(EPOCH):\n",
    "        epoch += 1\n",
    "        net.train()\n",
    "        train_loss = 0.0\n",
    "        test_loss = 0.0\n",
    "        max_train_acc = 0\n",
    "        max_test_acc = 0\n",
    "        correct = 0.0\n",
    "        train_samples = 0.0\n",
    "        test_samples = 0.0\n",
    "\n",
    "        print(f'Началось обучение {epoch} эпохи')\n",
    "        \n",
    "        for itr, data in enumerate(train_loader):\n",
    "            # if itr == 10:\n",
    "            #     break\n",
    "            inputs, labels = data \n",
    "            inputs, labels = inputs.to(device), labels.to(device)\n",
    "           \n",
    "            outputs = net(inputs)\n",
    "           \n",
    "            loss = loss_func(outputs, labels)\n",
    "            optimizer.zero_grad()\n",
    "            loss.backward()\n",
    "            optimizer.step()\n",
    "        \n",
    "            train_loss += loss.item() * outputs.size(0) \n",
    "            _, predicted = torch.max(outputs.data, 1)                  # _, predicted - значение тензора, номер индекса с этим максимальным значением\n",
    "            train_samples += outputs.size(0)                            # .data связывает между собой два тензора\n",
    "            \n",
    "            correct += predicted.eq(labels.data).cpu().sum()                # суммирует количество совпадающих 1 с labels\n",
    "                        \n",
    "\n",
    "        train_loss /= train_samples\n",
    "        train_acc = 100*correct / train_samples\n",
    "        \n",
    "        mlflow.log_metric(\"train_loss\", train_loss, step=epoch)\n",
    "        mlflow.log_metric(\"train_acc\", train_acc, step=epoch)\n",
    "        print(f'The Epoch {epoch}:')\n",
    "        print(f'Train loss - {train_loss:.3f}, Train accuracy - {train_acc:.2f} %')\n",
    "\n",
    "        net.eval()\n",
    "        \n",
    "        \n",
    "        correct = 0\n",
    "        \n",
    "        with torch.no_grad():\n",
    "            for itr, data in enumerate(test_loader):\n",
    "                # if itr == 5:\n",
    "                #     break\n",
    "                inputs, labels = data \n",
    "                inputs, labels = inputs.to(device), labels.to(device)\n",
    "                outputs = net(inputs)\n",
    "                loss = loss_func(outputs, labels)\n",
    "\n",
    "                test_loss += loss.item() * outputs.size(0)\n",
    "                _, predicted = torch.max(outputs.data, 1)                  \n",
    "                test_samples += outputs.size(0)                            \n",
    "            \n",
    "                correct += predicted.eq(labels.data).cpu().sum()\n",
    "\n",
    "        test_loss /= test_samples\n",
    "        test_acc = 100*correct / test_samples\n",
    "       \n",
    "        mlflow.log_metric(\"test_loss\", test_loss, step=epoch)\n",
    "        mlflow.log_metric(\"test_acc\", test_acc, step=epoch)\n",
    "        print(f'Test loss - {test_loss:.3f}, Test accuracy - {test_acc:.2f} %')\n",
    "\n",
    "        if test_acc > maxacc:\n",
    "            print('Saving model because its better')\n",
    "            maxacc = test_acc\n",
    "            mlflow.pytorch.log_model(net, \"model_my_ResNet18\")\n",
    "        print('-------')\n",
    "\n",
    "    print(f'Max accuracy - {maxacc:.2f} %')\n",
    "    mlflow.log_metric(\"max test accuracy\", maxacc)\n",
    "\n",
    "mlflow.end_run()"
   ]
  },
  {
   "cell_type": "code",
   "execution_count": null,
   "metadata": {},
   "outputs": [],
   "source": []
  }
 ],
 "metadata": {
  "kernelspec": {
   "display_name": "Python 3",
   "language": "python",
   "name": "python3"
  },
  "language_info": {
   "codemirror_mode": {
    "name": "ipython",
    "version": 3
   },
   "file_extension": ".py",
   "mimetype": "text/x-python",
   "name": "python",
   "nbconvert_exporter": "python",
   "pygments_lexer": "ipython3",
   "version": "3.13.2"
  }
 },
 "nbformat": 4,
 "nbformat_minor": 2
}
